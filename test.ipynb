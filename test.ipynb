{
 "cells": [
  {
   "cell_type": "code",
   "execution_count": 1,
   "metadata": {},
   "outputs": [],
   "source": [
    "import pandas as pd\n",
    "import numpy as np\n",
    "import seaborn as sns\n",
    "import matplotlib.pyplot as plt\n"
   ]
  },
  {
   "cell_type": "code",
   "execution_count": 22,
   "metadata": {},
   "outputs": [
    {
     "data": {
      "text/html": [
       "<div>\n",
       "<style scoped>\n",
       "    .dataframe tbody tr th:only-of-type {\n",
       "        vertical-align: middle;\n",
       "    }\n",
       "\n",
       "    .dataframe tbody tr th {\n",
       "        vertical-align: top;\n",
       "    }\n",
       "\n",
       "    .dataframe thead th {\n",
       "        text-align: right;\n",
       "    }\n",
       "</style>\n",
       "<table border=\"1\" class=\"dataframe\">\n",
       "  <thead>\n",
       "    <tr style=\"text-align: right;\">\n",
       "      <th></th>\n",
       "      <th>0</th>\n",
       "      <th>1</th>\n",
       "      <th>2</th>\n",
       "    </tr>\n",
       "  </thead>\n",
       "  <tbody>\n",
       "    <tr>\n",
       "      <th>0</th>\n",
       "      <td>3.451227</td>\n",
       "      <td>3.395814</td>\n",
       "      <td>5.000000</td>\n",
       "    </tr>\n",
       "    <tr>\n",
       "      <th>1</th>\n",
       "      <td>2.516103</td>\n",
       "      <td>3.688497</td>\n",
       "      <td>4.771920</td>\n",
       "    </tr>\n",
       "    <tr>\n",
       "      <th>2</th>\n",
       "      <td>1.623696</td>\n",
       "      <td>3.699661</td>\n",
       "      <td>4.452803</td>\n",
       "    </tr>\n",
       "    <tr>\n",
       "      <th>3</th>\n",
       "      <td>2.109813</td>\n",
       "      <td>4.988662</td>\n",
       "      <td>4.470545</td>\n",
       "    </tr>\n",
       "    <tr>\n",
       "      <th>4</th>\n",
       "      <td>2.432319</td>\n",
       "      <td>3.351211</td>\n",
       "      <td>5.000000</td>\n",
       "    </tr>\n",
       "  </tbody>\n",
       "</table>\n",
       "</div>"
      ],
      "text/plain": [
       "          0         1         2\n",
       "0  3.451227  3.395814  5.000000\n",
       "1  2.516103  3.688497  4.771920\n",
       "2  1.623696  3.699661  4.452803\n",
       "3  2.109813  4.988662  4.470545\n",
       "4  2.432319  3.351211  5.000000"
      ]
     },
     "execution_count": 22,
     "metadata": {},
     "output_type": "execute_result"
    }
   ],
   "source": [
    "ls = list()\n",
    "for i in np.array([3, 3.5, 4]):\n",
    "    x = i + np.random.randn(100)\n",
    "    x = np.where(x<1,1,x)\n",
    "    x = np.where(x>5,5,x)\n",
    "    ls.append(x)\n",
    "\n",
    "ls = np.array(ls).transpose()\n",
    "df_x = pd.DataFrame(ls)\n",
    "df_x.to_excel('randint-test.xlsx')\n",
    "df_x.head()"
   ]
  }
 ],
 "metadata": {
  "kernelspec": {
   "display_name": "Python 3",
   "language": "python",
   "name": "python3"
  },
  "language_info": {
   "codemirror_mode": {
    "name": "ipython",
    "version": 3
   },
   "file_extension": ".py",
   "mimetype": "text/x-python",
   "name": "python",
   "nbconvert_exporter": "python",
   "pygments_lexer": "ipython3",
   "version": "3.9.17"
  },
  "orig_nbformat": 4,
  "vscode": {
   "interpreter": {
    "hash": "5bb2ec07ddbaeaff2bcfb638c9ea623209b6cdc30f7d9c3ae3785c79ef1f8645"
   }
  }
 },
 "nbformat": 4,
 "nbformat_minor": 2
}
